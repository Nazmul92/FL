{
  "nbformat": 4,
  "nbformat_minor": 0,
  "metadata": {
    "colab": {
      "provenance": [],
      "authorship_tag": "ABX9TyPNBWpDFoWOwHOsHLSKUdng",
      "include_colab_link": true
    },
    "kernelspec": {
      "name": "python3",
      "display_name": "Python 3"
    },
    "language_info": {
      "name": "python"
    }
  },
  "cells": [
    {
      "cell_type": "markdown",
      "metadata": {
        "id": "view-in-github",
        "colab_type": "text"
      },
      "source": [
        "<a href=\"https://colab.research.google.com/github/Nazmul92/FL/blob/main/Different_aggregation_technique_in_FL.ipynb\" target=\"_parent\"><img src=\"https://colab.research.google.com/assets/colab-badge.svg\" alt=\"Open In Colab\"/></a>"
      ]
    },
    {
      "cell_type": "code",
      "execution_count": null,
      "metadata": {
        "id": "-2uzkYH3vf75"
      },
      "outputs": [],
      "source": [
        "!pip install syft==0.2.9 -f https://download.pytorch.org/whl/torch_stable.html     ## install syft"
      ]
    },
    {
      "cell_type": "markdown",
      "source": [
        "# Import libraries"
      ],
      "metadata": {
        "id": "67Cl5qw1m0FD"
      }
    },
    {
      "cell_type": "code",
      "source": [
        "import torch\n",
        "import syft as sy\n",
        "from sklearn.datasets import load_iris\n",
        "import torch.nn as nn\n",
        "import torch.nn.functional as F\n",
        "import torch.optim as optim\n",
        "import matplotlib.pyplot as plt"
      ],
      "metadata": {
        "id": "-wlT1ktIvkEz"
      },
      "execution_count": null,
      "outputs": []
    },
    {
      "cell_type": "code",
      "source": [
        "hook = sy.TorchHook(torch)                      ## create hook using syft (extension of torch)"
      ],
      "metadata": {
        "id": "o1cdYqOwwMvv"
      },
      "execution_count": null,
      "outputs": []
    },
    {
      "cell_type": "markdown",
      "source": [
        "# Define virtual worker"
      ],
      "metadata": {
        "id": "ILUbvu-4w8bA"
      }
    },
    {
      "cell_type": "code",
      "source": [
        "worker1 = sy.VirtualWorker(hook, id = 'worker1')                       \n",
        "worker2 = sy.VirtualWorker(hook, id = 'worker2')\n",
        "worker3 = sy.VirtualWorker(hook, id = 'worker3')\n",
        "worker4 = sy.VirtualWorker(hook, id = 'worker4')\n",
        "worker_trusted = sy.VirtualWorker(hook, id='worker_trusted')"
      ],
      "metadata": {
        "id": "psTpAqdLwcyN"
      },
      "execution_count": null,
      "outputs": []
    },
    {
      "cell_type": "markdown",
      "source": [
        "# Load data"
      ],
      "metadata": {
        "id": "QwvsFDj1xGd3"
      }
    },
    {
      "cell_type": "code",
      "source": [
        "df = load_iris()\n",
        "x = df.data                             ## define features\n",
        "y = df.target                           ## define target\n",
        "\n",
        "x_tensor = torch.tensor(x)              ## convert numpy to torch\n",
        "y_tensor = torch.tensor(y)"
      ],
      "metadata": {
        "id": "qcPMTbQlxFcG"
      },
      "execution_count": null,
      "outputs": []
    },
    {
      "cell_type": "markdown",
      "source": [
        "# Distribute data among virtual worker"
      ],
      "metadata": {
        "id": "9gU7XH4HxukI"
      }
    },
    {
      "cell_type": "code",
      "source": [
        "data_worker1 = x_tensor[0:40].send(worker1)                       ## first 40 sample data send to worker1\n",
        "target_worker1 = y_tensor[0:40].send(worker1)                     ## first 40 target data sent to worker1\n",
        "\n",
        "data_worker2 = x_tensor[40:80].send(worker2)                      ## second 40 sample data send to worker2\n",
        "target_worker2 = y_tensor[40:80].send(worker2)                    ## second 40 target data send to worker2\n",
        "\n",
        "data_worker3 = x_tensor[80:120].send(worker3)                     ## third 40 sample data send to worker3\n",
        "target_worker3 = y_tensor[80:120].send(worker3)                   ## third 40 target data send to worker3\n",
        "\n",
        "data_worker4 = x_tensor[110:].send(worker4)                       ## sample 110 to rest send to worker4\n",
        "target_worker4 = y_tensor[110:].send(worker4)                     ## target 110 to rest send to worker4"
      ],
      "metadata": {
        "id": "MAUifcGwxVad"
      },
      "execution_count": null,
      "outputs": []
    },
    {
      "cell_type": "markdown",
      "source": [
        "# Define model "
      ],
      "metadata": {
        "id": "JG98ZSAdyIb3"
      }
    },
    {
      "cell_type": "code",
      "source": [
        "class Model(nn.Module):\n",
        "  def __init__(self):\n",
        "    super().__init__()\n",
        "    self.fc1 = nn.Linear(4,50)                                   ## input neuron 4, output neuron 50\n",
        "    self.fc2 = nn.Linear(50,100)                                 ## input neuron 50, output neuron 100\n",
        "    self.output = nn.Linear(100,3)                               ## input neuron 100, ourput neuron 3 for three classes\n",
        "\n",
        "  def forward (self,x):                                          ## define forward pass \n",
        "    x = F.relu(self.fc1(x))                                      ## call first fully connected layer and pass the result into relu activation\n",
        "    x = F.relu(self.fc2(x))                                      ## call second fully connected layer and pass the result into relu activation\n",
        "    x = F.softmax(self.output(x))                                ## pass into softmax function for multiclass classification\n",
        "    return x"
      ],
      "metadata": {
        "id": "OxXc-Gtdx-Vl"
      },
      "execution_count": null,
      "outputs": []
    },
    {
      "cell_type": "code",
      "source": [
        "model = Model()                                  ## create an instance of model class"
      ],
      "metadata": {
        "id": "uk-Nhw95yVw1"
      },
      "execution_count": null,
      "outputs": []
    },
    {
      "cell_type": "markdown",
      "source": [
        "# Federated averaging aggregation"
      ],
      "metadata": {
        "id": "OlspWZ1V0FDX"
      }
    },
    {
      "cell_type": "code",
      "source": [
        "num_round = 100                                 ## define number of round\n",
        "epoch = 100                                     ## define number of epoch\n",
        "criterion = nn.CrossEntropyLoss()               ## create an instance of cross entropy class\n",
        "\n",
        "train_loss_worker1 = []                         ## create empty list\n",
        "train_loss_worker2 = []\n",
        "train_loss_worker3 = []\n",
        "train_loss_worker4 = []\n",
        "\n",
        "\n",
        "for round in range(num_round):                            ## loop for round\n",
        "  model_worker1 = model.copy().send(worker1)              ## send a copy of global model to worker1\n",
        "  model_worker2 = model.copy().send(worker2)\n",
        "  model_worker3 = model.copy().send(worker3)\n",
        "  model_worker4 = model.copy().send(worker4)\n",
        "  \n",
        "  opt_worker1 = optim.SGD(params=model_worker1.parameters(), lr = 0.01)                    ## set learning rate of SGD optimizer for worker1\n",
        "  opt_worker2 = optim.SGD(params=model_worker2.parameters(), lr = 0.01)\n",
        "  opt_worker3 = optim.SGD(params=model_worker3.parameters(), lr = 0.01)\n",
        "  opt_worker4 = optim.SGD(params=model_worker4.parameters(), lr = 0.01)\n",
        "  opt_model = optim.SGD(params=model.parameters(), lr = 0.01 )\n",
        "\n",
        "  print('round: '+str(round))\n",
        "\n",
        "  for i in range(epoch):                                                      ## loop for epoch\n",
        "    opt_worker1.zero_grad()                                                   ## set gradient zero\n",
        "    pred_worker1 = model_worker1(data_worker1.float())                        ## prediction for worker1 model\n",
        "    _loss_worker1 = criterion(pred_worker1,target_worker1)                    ## calculate the loss of worker1 model\n",
        "    _loss_worker1.backward()                                                  ## backpropagation \n",
        "    opt_worker1.step()                                                        ## weight update\n",
        "    loss_worker1 = _loss_worker1.get()                                        ## get loss from virtual worker1\n",
        "    train_loss_worker1.append(loss_worker1.item())                            ## insert loss into list \n",
        "    \n",
        "\n",
        "    opt_worker2.zero_grad()\n",
        "    pred_worker2 = model_worker2(data_worker2.float())\n",
        "    _loss_worker2 = criterion(pred_worker2,target_worker2)\n",
        "    _loss_worker2.backward()\n",
        "    opt_worker2.step()\n",
        "    loss_worker2 = _loss_worker2.get()\n",
        "    train_loss_worker2.append(loss_worker2.item())\n",
        "    \n",
        "\n",
        "    opt_worker3.zero_grad()\n",
        "    pred_worker3 = model_worker3(data_worker3.float())\n",
        "    _loss_worker3 = criterion(pred_worker3,target_worker3)\n",
        "    _loss_worker3.backward()\n",
        "    opt_worker3.step()\n",
        "    loss_worker3 = _loss_worker3.get()\n",
        "    train_loss_worker3.append(loss_worker3.item())\n",
        "    \n",
        "\n",
        "    opt_worker4.zero_grad()\n",
        "    pred_worker4 = model_worker4(data_worker4.float())\n",
        "    _loss_worker4 = criterion(pred_worker4,target_worker4)\n",
        "    _loss_worker4.backward()\n",
        "    opt_worker4.step()\n",
        "    loss_worker4 = _loss_worker4.get()\n",
        "    train_loss_worker4.append(loss_worker4.item())\n",
        "    print('loss_worker1:'+str(loss_worker1)+ 'loss_worker2:'+str(loss_worker2)+'loss_worker3:'+str(loss_worker3)+\n",
        "          'loss_worker4:'+str(loss_worker4))\n",
        "  \n",
        "  model_worker1.move(worker_trusted)                             ## send worker1 to trusted worker for secure aggregation \n",
        "  model_worker2.move(worker_trusted)\n",
        "  model_worker3.move(worker_trusted)\n",
        "  model_worker4.move(worker_trusted)\n",
        "\n",
        "  fc1_weight = ((model_worker1.fc1.weight.data+model_worker2.fc1.weight.data+model_worker3.fc1.weight.data+model_worker4.fc1.weight.data)/4).get()  ## calculate average weight of first fully connected layer\n",
        "  fc2_weight = ((model_worker1.fc2.weight.data+model_worker2.fc2.weight.data+model_worker3.fc2.weight.data+model_worker4.fc2.weight.data)/4).get()  ## calculate average weight of second fully connected layer\n",
        "  fc1_bias = ((model_worker1.fc1.bias.data+model_worker2.fc1.bias.data+model_worker3.fc1.bias.data+model_worker4.fc1.bias.data)/4).get()            ## calculate average bias of first fully connected layer  \n",
        "  fc2_bias = ((model_worker1.fc2.bias.data+model_worker2.fc2.bias.data+model_worker3.fc2.bias.data+model_worker4.fc2.bias.data)/4).get()            ## calculate average bias of second fully connected layer\n",
        "\n",
        "  model.fc1.weight = torch.nn.parameter.Parameter(fc1_weight)               ## set average weight to model first fully connected layer\n",
        "  model.fc2.weight = torch.nn.parameter.Parameter(fc2_weight)\n",
        "  model.fc1.bias = torch.nn.parameter.Parameter(fc1_bias)\n",
        "  model.fc2.bias = torch.nn.parameter.Parameter(fc2_bias)\n",
        "  opt_model.step()                                                  ## model update (average weight and bias)\n",
        "    "
      ],
      "metadata": {
        "id": "DHTvzi8-y-cl"
      },
      "execution_count": null,
      "outputs": []
    },
    {
      "cell_type": "code",
      "source": [
        "fc1_weight"
      ],
      "metadata": {
        "id": "l5EUQUGiE4NY"
      },
      "execution_count": null,
      "outputs": []
    },
    {
      "cell_type": "markdown",
      "source": [
        "# Plot training loss of different workers (federated averaging)"
      ],
      "metadata": {
        "id": "dHbZBLAJ1Mdn"
      }
    },
    {
      "cell_type": "code",
      "source": [
        "plt.plot(train_loss_worker1[0:1000], color='red', label = 'worker1')\n",
        "plt.plot(train_loss_worker2[0:1000], color='green', label = 'worker2')\n",
        "plt.plot(train_loss_worker3[0:1000], color='blue', label = 'worker3')\n",
        "plt.plot(train_loss_worker4[0:1000], color='olive', label = 'worker4')\n",
        "plt.xlabel('epoch')\n",
        "plt.ylabel('training loss')\n",
        "plt.legend(loc='upper right')\n",
        "plt.title(\"Training loss (fed avg) round 100 (100 epoch\\round)\")\n",
        "plt.show()"
      ],
      "metadata": {
        "colab": {
          "base_uri": "https://localhost:8080/",
          "height": 295
        },
        "id": "IJLrQuYK0ix9",
        "outputId": "b8ac7bf4-ea06-4671-d46c-e1b8c06e86b5"
      },
      "execution_count": null,
      "outputs": [
        {
          "output_type": "display_data",
          "data": {
            "text/plain": [
              "<Figure size 432x288 with 1 Axes>"
            ],
            "image/png": "[encoded data removed]"
          },
          "metadata": {
            "needs_background": "light"
          }
        }
      ]
    },
    {
      "cell_type": "markdown",
      "source": [
        "## Federated max gradient aggregation"
      ],
      "metadata": {
        "id": "sZvo0fbwmaRw"
      }
    },
    {
      "cell_type": "code",
      "source": [
        "worker1.clear_objects()                       ## clear worker1 object\n",
        "worker2.clear_objects()\n",
        "worker3.clear_objects()\n",
        "worker4.clear_objects()\n",
        "worker_trusted.clear_objects()"
      ],
      "metadata": {
        "id": "39l72-BDmRnS"
      },
      "execution_count": null,
      "outputs": []
    },
    {
      "cell_type": "markdown",
      "source": [
        "# Distribute data among the workers"
      ],
      "metadata": {
        "id": "6mk6LJG2mf9E"
      }
    },
    {
      "cell_type": "code",
      "source": [
        "data_worker1 = x_tensor[0:40].send(worker1)\n",
        "target_worker1 = y_tensor[0:40].send(worker1)\n",
        "\n",
        "data_worker2 = x_tensor[40:80].send(worker2)\n",
        "target_worker2 = y_tensor[40:80].send(worker2)\n",
        "\n",
        "data_worker3 = x_tensor[80:120].send(worker3)\n",
        "target_worker3 = y_tensor[80:120].send(worker3)\n",
        "\n",
        "data_worker4 = x_tensor[110:].send(worker4)\n",
        "target_worker4 = y_tensor[110:].send(worker4)"
      ],
      "metadata": {
        "id": "qR4Rr2aTmYuq"
      },
      "execution_count": null,
      "outputs": []
    },
    {
      "cell_type": "markdown",
      "source": [
        "# Define model"
      ],
      "metadata": {
        "id": "lxvr9TF6tgCQ"
      }
    },
    {
      "cell_type": "code",
      "source": [
        "class Model(nn.Module):\n",
        "  def __init__(self):\n",
        "    super().__init__()\n",
        "    self.fc1 = nn.Linear(4,50)                                   ## input neuron 4, output neuron 50\n",
        "    self.fc2 = nn.Linear(50,100)                                 ## input neuron 50, output neuron 100\n",
        "    self.output = nn.Linear(100,3)                               ## input neuron 100, ourput neuron 3 for three classes\n",
        "\n",
        "  def forward (self,x):                                          ## define forward pass \n",
        "    x = F.relu(self.fc1(x))                                      ## call first fully connected layer and pass the result into relu activation\n",
        "    x = F.relu(self.fc2(x))                                      ## call second fully connected layer and pass the result into relu activation\n",
        "    x = F.softmax(self.output(x))                                ## pass into softmax function for multiclass classification\n",
        "    return x"
      ],
      "metadata": {
        "id": "Huf2awS5taS4"
      },
      "execution_count": null,
      "outputs": []
    },
    {
      "cell_type": "markdown",
      "source": [
        "# Model training in each virtual worker"
      ],
      "metadata": {
        "id": "4m4ev2d52O4p"
      }
    },
    {
      "cell_type": "code",
      "source": [
        "num_round =100\n",
        "criterion = nn.CrossEntropyLoss()\n",
        "\n",
        "train_loss_worker1_fedmax = []\n",
        "train_loss_worker2_fedmax = []\n",
        "train_loss_worker3_fedmax = []\n",
        "train_loss_worker4_fedmax = []\n",
        "\n",
        "for round in range(num_round):\n",
        "  model_worker1 = model.copy().send(worker1)\n",
        "  model_worker2 = model.copy().send(worker2)\n",
        "  model_worker3 = model.copy().send(worker3)\n",
        "  model_worker4 = model.copy().send(worker4)\n",
        "  \n",
        "  opt_worker1 = optim.SGD(params=model_worker1.parameters(), lr = 0.01)\n",
        "  opt_worker2 = optim.SGD(params=model_worker2.parameters(), lr = 0.01)\n",
        "  opt_worker3 = optim.SGD(params=model_worker3.parameters(), lr = 0.01)\n",
        "  opt_worker4 = optim.SGD(params=model_worker4.parameters(), lr = 0.01)\n",
        "  opt_model = optim.SGD(params=model.parameters(), lr = 0.1)\n",
        "\n",
        "  print('round'+str(round))\n",
        "\n",
        "  for i in range(100):\n",
        "    opt_worker1.zero_grad()\n",
        "    pred_worker1 = model_worker1(data_worker1.float())\n",
        "    _loss_worker1 = criterion(pred_worker1,target_worker1)\n",
        "    _loss_worker1.backward()\n",
        "    opt_worker1.step()\n",
        "    loss_worker1 = _loss_worker1.get()\n",
        "    train_loss_worker1_fedmax.append(loss_worker1.item())\n",
        "    \n",
        "\n",
        "    opt_worker2.zero_grad()\n",
        "    pred_worker2 = model_worker2(data_worker2.float())\n",
        "    _loss_worker2 = criterion(pred_worker2,target_worker2)\n",
        "    _loss_worker2.backward()\n",
        "    opt_worker2.step()\n",
        "    loss_worker2 = _loss_worker2.get()\n",
        "    train_loss_worker2_fedmax.append(loss_worker2.item())\n",
        "    \n",
        "\n",
        "    opt_worker3.zero_grad()\n",
        "    pred_worker3 = model_worker3(data_worker3.float())\n",
        "    _loss_worker3 = criterion(pred_worker3,target_worker3)\n",
        "    _loss_worker3.backward()\n",
        "    opt_worker3.step()\n",
        "    loss_worker3 = _loss_worker3.get()\n",
        "    train_loss_worker3_fedmax.append(loss_worker3.item())\n",
        "    \n",
        "\n",
        "    opt_worker4.zero_grad()\n",
        "    pred_worker4 = model_worker4(data_worker4.float())\n",
        "    _loss_worker4 = criterion(pred_worker4,target_worker4)\n",
        "    _loss_worker4.backward()\n",
        "    opt_worker4.step()\n",
        "    loss_worker4 = _loss_worker4.get()\n",
        "    train_loss_worker4_fedmax.append(loss_worker4.item())\n",
        "    print('loss_worker1:'+str(loss_worker1)+ 'loss_worker2:'+str(loss_worker2)+'loss_worker3:'+str(loss_worker3)+\n",
        "          'loss_worker4:'+str(loss_worker4))\n",
        "  \n",
        "  model_worker1.move(worker_trusted)\n",
        "  model_worker2.move(worker_trusted)\n",
        "  model_worker3.move(worker_trusted)\n",
        "  model_worker4.move(worker_trusted)\n",
        "\n",
        "  fc1_weight = (torch.max(model_worker1.fc1.weight, model_worker2.fc1.weight, model_worker3.fc1.weight, model_worker4.fc1.weight)).get()    ## calcualte max weight of first fully connected layer (four virtual worker)\n",
        "  fc2_weight = (torch.max(model_worker1.fc2.weight.data,model_worker2.fc2.weight.data,model_worker3.fc2.weight.data,model_worker4.fc2.weight.data)).get()\n",
        "  fc1_bias = (torch.max(model_worker1.fc1.bias.data,model_worker2.fc1.bias.data,model_worker3.fc1.bias.data,model_worker4.fc1.bias.data)).get()\n",
        "  fc2_bias = (torch.max(model_worker1.fc2.bias.data,model_worker2.fc2.bias.data,model_worker3.fc2.bias.data,model_worker4.fc2.bias.data)).get()\n",
        "\n",
        "  \n",
        "  model.fc1.weight = torch.nn.parameter.Parameter(fc1_weight)              ## set max weight to model first fully connected layer\n",
        "  model.fc2.weight = torch.nn.parameter.Parameter(fc2_weight)\n",
        "  model.fc1.bias = torch.nn.parameter.Parameter(fc1_bias)\n",
        "  model.fc2.bias = torch.nn.parameter.Parameter(fc2_bias)\n",
        "  opt_model.step()                                                         ## update global model weight and bias\n"
      ],
      "metadata": {
        "id": "cjFx_Hfw1ltO"
      },
      "execution_count": null,
      "outputs": []
    },
    {
      "cell_type": "markdown",
      "source": [
        "# Plot training loss (max gradient aggregation)"
      ],
      "metadata": {
        "id": "BEKldh0auopL"
      }
    },
    {
      "cell_type": "code",
      "source": [
        "plt.plot(train_loss_worker1_fedmax[0:1000], color='red', label = 'worker1')\n",
        "plt.plot(train_loss_worker2_fedmax[0:1000], color='green', label = 'worker2')\n",
        "plt.plot(train_loss_worker3_fedmax[0:1000], color='blue', label = 'worker3')\n",
        "plt.plot(train_loss_worker4_fedmax[0:1000], color='olive', label = 'worker4')\n",
        "plt.xlabel('epoch')\n",
        "plt.ylabel('training loss')\n",
        "plt.legend(loc='upper right')\n",
        "plt.title(\"Training loss (fed max) round 100 (100 epoch\\round\")\n",
        "plt.show( )"
      ],
      "metadata": {
        "colab": {
          "base_uri": "https://localhost:8080/",
          "height": 295
        },
        "id": "coytzzUJ_g4s",
        "outputId": "0e99e2ee-82e2-4c91-b522-53fbf22951b1"
      },
      "execution_count": null,
      "outputs": [
        {
          "output_type": "display_data",
          "data": {
            "text/plain": [
              "<Figure size 432x288 with 1 Axes>"
            ],
            "image/png": "[encoded data removed]"
          },
          "metadata": {
            "needs_background": "light"
          }
        }
      ]
    },
    {
      "cell_type": "markdown",
      "source": [
        "# Federated harmonic mean aggregation"
      ],
      "metadata": {
        "id": "fhbA0hqpvbhz"
      }
    },
    {
      "cell_type": "code",
      "source": [
        "worker1.clear_objects()\n",
        "worker2.clear_objects()\n",
        "worker3.clear_objects()\n",
        "worker4.clear_objects()\n",
        "worker_trusted.clear_objects()"
      ],
      "metadata": {
        "colab": {
          "base_uri": "https://localhost:8080/"
        },
        "id": "iJPrl9t3Cm5m",
        "outputId": "14ffede6-b416-47d9-ab79-479cdacf6a74"
      },
      "execution_count": null,
      "outputs": [
        {
          "output_type": "execute_result",
          "data": {
            "text/plain": [
              "<VirtualWorker id:worker_trusted #objects:0>"
            ]
          },
          "metadata": {},
          "execution_count": 128
        }
      ]
    },
    {
      "cell_type": "markdown",
      "source": [
        "# Data distribution among workers"
      ],
      "metadata": {
        "id": "A46_Ypfcv9yo"
      }
    },
    {
      "cell_type": "code",
      "source": [
        "data_worker1 = x_tensor[0:40].send(worker1)\n",
        "target_worker1 = y_tensor[0:40].send(worker1)\n",
        "\n",
        "data_worker2 = x_tensor[40:80].send(worker2)\n",
        "target_worker2 = y_tensor[40:80].send(worker2)\n",
        "\n",
        "data_worker3 = x_tensor[80:120].send(worker3)\n",
        "target_worker3 = y_tensor[80:120].send(worker3)\n",
        "\n",
        "data_worker4 = x_tensor[110:].send(worker4)\n",
        "target_worker4 = y_tensor[110:].send(worker4)"
      ],
      "metadata": {
        "id": "nJhrP0XmC8vJ"
      },
      "execution_count": null,
      "outputs": []
    },
    {
      "cell_type": "markdown",
      "source": [
        "# Define model"
      ],
      "metadata": {
        "id": "Ta-6DaN2wYc4"
      }
    },
    {
      "cell_type": "code",
      "source": [
        "class Model(nn.Module):\n",
        "  def __init__(self):\n",
        "    super().__init__()\n",
        "    self.fc1 = nn.Linear(4,50)                                   ## input neuron 4, output neuron 50\n",
        "    self.fc2 = nn.Linear(50,100)                                 ## input neuron 50, output neuron 100\n",
        "    self.output = nn.Linear(100,3)                               ## input neuron 100, ourput neuron 3 for three classes\n",
        "\n",
        "  def forward (self,x):                                          ## define forward pass \n",
        "    x = F.relu(self.fc1(x))                                      ## call first fully connected layer and pass the result into relu activation\n",
        "    x = F.relu(self.fc2(x))                                      ## call second fully connected layer and pass the result into relu activation\n",
        "    x = F.softmax(self.output(x))                                ## pass into softmax function for multiclass classification\n",
        "    return x"
      ],
      "metadata": {
        "id": "x-Rt2yL_wXj7"
      },
      "execution_count": null,
      "outputs": []
    },
    {
      "cell_type": "markdown",
      "source": [
        "# Training each worker local model"
      ],
      "metadata": {
        "id": "CWPbPt3Uwddx"
      }
    },
    {
      "cell_type": "code",
      "source": [
        "num_round = 100\n",
        "criterion = nn.CrossEntropyLoss()\n",
        "\n",
        "train_loss_worker1_fedh = []\n",
        "train_loss_worker2_fedh = []\n",
        "train_loss_worker3_fedh = []\n",
        "train_loss_worker4_fedh = []\n",
        "\n",
        "for round in range(num_round):\n",
        "  model_worker1 = model.copy().send(worker1)\n",
        "  model_worker2 = model.copy().send(worker2)\n",
        "  model_worker3 = model.copy().send(worker3)\n",
        "  model_worker4 = model.copy().send(worker4)\n",
        "  \n",
        "  opt_worker1 = optim.SGD(params=model_worker1.parameters(), lr = 0.01)\n",
        "  opt_worker2 = optim.SGD(params=model_worker2.parameters(), lr = 0.01)\n",
        "  opt_worker3 = optim.SGD(params=model_worker3.parameters(), lr = 0.01)\n",
        "  opt_worker4 = optim.SGD(params=model_worker4.parameters(), lr = 0.01)\n",
        "  opt_model = optim.SGD(params=model.parameters(), lr = 0.01)\n",
        "\n",
        "  print('round'+str(round))\n",
        "\n",
        "  for i in range(100):\n",
        "    opt_worker1.zero_grad()\n",
        "    pred_worker1 = model_worker1(data_worker1.float())\n",
        "    _loss_worker1 = criterion(pred_worker1,target_worker1)\n",
        "    _loss_worker1.backward()\n",
        "    opt_worker1.step()\n",
        "    loss_worker1 = _loss_worker1.get()\n",
        "    train_loss_worker1_fedh.append(loss_worker1.item())\n",
        "    \n",
        "\n",
        "    opt_worker2.zero_grad()\n",
        "    pred_worker2 = model_worker2(data_worker2.float())\n",
        "    _loss_worker2 = criterion(pred_worker2,target_worker2)\n",
        "    _loss_worker2.backward()\n",
        "    opt_worker2.step()\n",
        "    loss_worker2 = _loss_worker2.get()\n",
        "    train_loss_worker2_fedh.append(loss_worker2.item())\n",
        "    \n",
        "\n",
        "    opt_worker3.zero_grad()\n",
        "    pred_worker3 = model_worker3(data_worker3.float())\n",
        "    _loss_worker3 = criterion(pred_worker3,target_worker3)\n",
        "    _loss_worker3.backward()\n",
        "    opt_worker3.step()\n",
        "    loss_worker3 = _loss_worker3.get()\n",
        "    train_loss_worker3_fedh.append(loss_worker3.item())\n",
        "    \n",
        "\n",
        "    opt_worker4.zero_grad()\n",
        "    pred_worker4 = model_worker4(data_worker4.float())\n",
        "    _loss_worker4 = criterion(pred_worker4,target_worker4)\n",
        "    _loss_worker4.backward()\n",
        "    opt_worker4.step()\n",
        "    loss_worker4 = _loss_worker4.get()\n",
        "    train_loss_worker4_fedh.append(loss_worker4.item())\n",
        "    print('loss_worker1:'+str(loss_worker1)+ 'loss_worker2:'+str(loss_worker2)+'loss_worker3:'+str(loss_worker3)+\n",
        "          'loss_worker4:'+str(loss_worker4))\n",
        "  \n",
        "  model_worker1.move(worker_trusted)\n",
        "  model_worker2.move(worker_trusted)\n",
        "  model_worker3.move(worker_trusted)\n",
        "  model_worker4.move(worker_trusted)\n",
        "\n",
        "  fc1_weight = ((1/(model_worker1.fc1.weight.data)+1/(model_worker2.fc1.weight.data)+1/(model_worker3.fc1.weight.data)+1/(model_worker4.fc1.weight.data))/4).get() ## calculate harmonic mean of first fully connected layer (four workers)  \n",
        "  fc2_weight = ((1/(model_worker1.fc2.weight.data)+1/(model_worker2.fc2.weight.data)+1/(model_worker3.fc2.weight.data)+1/(model_worker4.fc2.weight.data))/4).get()\n",
        "  fc1_bias = ((1/(model_worker1.fc1.bias.data)+1/(model_worker2.fc1.bias.data)+1/(model_worker3.fc1.bias.data)+1/(model_worker4.fc1.bias.data))/4).get()\n",
        "  fc2_bias = ((1/(model_worker1.fc2.bias.data)+1/(model_worker2.fc2.bias.data)+1/(model_worker3.fc2.bias.data)+1/(model_worker4.fc2.bias.data))/4).get()\n",
        "\n",
        "  \n",
        "  model.fc1.weight = torch.nn.parameter.Parameter(fc1_weight)\n",
        "  model.fc2.weight = torch.nn.parameter.Parameter(fc2_weight)\n",
        "  model.fc1.bias = torch.nn.parameter.Parameter(fc1_bias)\n",
        "  model.fc2.bias = torch.nn.parameter.Parameter(fc2_bias)\n",
        "  opt_model.step()\n"
      ],
      "metadata": {
        "id": "NyDdXFgCBjHL"
      },
      "execution_count": null,
      "outputs": []
    },
    {
      "cell_type": "markdown",
      "source": [
        "# Ploting training loss (fed harmonic mean)"
      ],
      "metadata": {
        "id": "GdSb_kzJw2__"
      }
    },
    {
      "cell_type": "code",
      "source": [
        "plt.plot(train_loss_worker1_fedh[0:1000], color='red', label = 'worker1')\n",
        "plt.plot(train_loss_worker2_fedh[0:1000], color='green', label = 'worker2')\n",
        "plt.plot(train_loss_worker3_fedh[0:1000], color='blue', label = 'worker3')\n",
        "plt.plot(train_loss_worker4_fedh[0:1000], color='olive', label = 'worker4')\n",
        "plt.xlabel('epoch')\n",
        "plt.ylabel('training loss')\n",
        "plt.legend(loc='upper right')\n",
        "plt.title(\"Training loss (fed max) round 100 (100 epoch\\round\")\n",
        "plt.show( )"
      ],
      "metadata": {
        "colab": {
          "base_uri": "https://localhost:8080/",
          "height": 295
        },
        "id": "baMuyZ0uDEj1",
        "outputId": "b93b255e-38a6-47c7-d077-0f98f5d26e63"
      },
      "execution_count": null,
      "outputs": [
        {
          "output_type": "display_data",
          "data": {
            "text/plain": [
              "<Figure size 432x288 with 1 Axes>"
            ],
            "image/png": "[encoded data removed]"
          },
          "metadata": {
            "needs_background": "light"
          }
        }
      ]
    },
    {
      "cell_type": "code",
      "source": [],
      "metadata": {
        "id": "LO3Z8CPqDjAM"
      },
      "execution_count": null,
      "outputs": []
    }
  ]
}